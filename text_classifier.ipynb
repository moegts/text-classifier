{
  "nbformat": 4,
  "nbformat_minor": 0,
  "metadata": {
    "colab": {
      "name": "Untitled0.ipynb",
      "provenance": []
    },
    "kernelspec": {
      "name": "python3",
      "display_name": "Python 3"
    },
    "language_info": {
      "name": "python"
    }
  },
  "cells": [
    {
      "cell_type": "code",
      "metadata": {
        "id": "_319r112oE1_"
      },
      "source": [
        "import pandas as pd\n",
        "from keras.models import Sequential\n",
        "from keras import layers\n",
        "from tensorflow.keras import backend as k\n",
        "from sklearn.feature_extraction.text import CountVectorizer\n",
        "from sklearn.model_selection import train_test_split\n",
        "from sklearn.linear_model import LogisticRegression\n",
        "import matplotlib.pyplot as plt"
      ],
      "execution_count": 4,
      "outputs": []
    },
    {
      "cell_type": "code",
      "metadata": {
        "id": "sSb-Lc7Uo7k2"
      },
      "source": [
        "filepath_dict = {'yelp':   'data/yelp_labelled.txt',\n",
        "                 'amazon': 'data/amazon_cells_labelled.txt',\n",
        "                 'imdb':   'data/imdb_labelled.txt'}"
      ],
      "execution_count": 5,
      "outputs": []
    },
    {
      "cell_type": "code",
      "metadata": {
        "id": "UdWqQ6Kfo86A"
      },
      "source": [
        "df_list = []\n",
        "for source, filepath in filepath_dict.items():\n",
        "    df = pd.read_csv(filepath, names=['sentence', 'label'], sep='\\t')\n",
        "    df['source'] = source\n",
        "    df_list.append(df)\n",
        "df = pd.concat(df_list)\n"
      ],
      "execution_count": 6,
      "outputs": []
    },
    {
      "cell_type": "code",
      "metadata": {
        "colab": {
          "base_uri": "https://localhost:8080/"
        },
        "id": "TgzHe2YlpAhe",
        "outputId": "406db9fe-6320-4d45-9b55-c6aca7c447c3"
      },
      "source": [
        "df_yelp = df[ df['source']=='amazon']\n",
        "X = df_yelp['sentence'].values\n",
        "Y = df_yelp['label'].values\n",
        "sentences_train, sentences_test, y_train, y_test = train_test_split(\n",
        "        X, Y, test_size=0.25, random_state=1000)\n",
        "vectorizer = CountVectorizer()\n",
        "vectorizer.fit(sentences_train)\n",
        "X_train = vectorizer.transform(sentences_train)\n",
        "X_test  = vectorizer.transform(sentences_test)\n",
        "classifier = LogisticRegression()\n",
        "classifier.fit(X_train, y_train)\n",
        "score = classifier.score(X_test, y_test)\n",
        "\n",
        "print(\"Accuracy:\", score)"
      ],
      "execution_count": 10,
      "outputs": [
        {
          "output_type": "stream",
          "name": "stdout",
          "text": [
            "Accuracy: 0.796\n"
          ]
        }
      ]
    },
    {
      "cell_type": "code",
      "metadata": {
        "colab": {
          "base_uri": "https://localhost:8080/"
        },
        "id": "GiakuCkFpa90",
        "outputId": "838948e3-4fd7-4b6b-c14c-d203ba93bc33"
      },
      "source": [
        "test = vectorizer.transform(['awesome'])\n",
        "print(classifier.predict(test))"
      ],
      "execution_count": 16,
      "outputs": [
        {
          "output_type": "stream",
          "name": "stdout",
          "text": [
            "[1]\n"
          ]
        }
      ]
    },
    {
      "cell_type": "code",
      "metadata": {
        "colab": {
          "base_uri": "https://localhost:8080/"
        },
        "id": "_1Aan2oPrKwC",
        "outputId": "0c38a70b-7045-41bf-b422-e5429fb215a8"
      },
      "source": [
        "df_imdb = df[ df['source']=='imdb']\n",
        "X = df_imdb['sentence'].values\n",
        "Y = df_imdb['label'].values\n",
        "sentences_train, sentences_test, y_train, y_test = train_test_split(\n",
        "        X, Y, test_size=0.25, random_state=1000)\n",
        "vectorizer = CountVectorizer()\n",
        "vectorizer.fit(sentences_train)\n",
        "X_train = vectorizer.transform(sentences_train)\n",
        "X_test  = vectorizer.transform(sentences_test)\n",
        "classifier = LogisticRegression()\n",
        "classifier.fit(X_train, y_train)\n",
        "score = classifier.score(X_test, y_test)\n",
        "\n",
        "print(\"Accuracy:\", score)"
      ],
      "execution_count": 17,
      "outputs": [
        {
          "output_type": "stream",
          "name": "stdout",
          "text": [
            "Accuracy: 0.7486631016042781\n"
          ]
        }
      ]
    },
    {
      "cell_type": "code",
      "metadata": {
        "colab": {
          "base_uri": "https://localhost:8080/"
        },
        "id": "EPdftzUwraU-",
        "outputId": "6fbc2c3f-2f35-4c36-e09e-19354574d773"
      },
      "source": [
        "test = vectorizer.transform(['this was hard day'])\n",
        "print(classifier.predict(test))"
      ],
      "execution_count": 20,
      "outputs": [
        {
          "output_type": "stream",
          "name": "stdout",
          "text": [
            "[0]\n"
          ]
        }
      ]
    },
    {
      "cell_type": "code",
      "metadata": {
        "colab": {
          "base_uri": "https://localhost:8080/"
        },
        "id": "HzsFN9Wzrthe",
        "outputId": "e2bc50e9-21ae-4e59-bedc-48a567668330"
      },
      "source": [
        "df_yelp = df[ df['source']=='yelp']\n",
        "X = df_yelp['sentence'].values\n",
        "Y = df_yelp['label'].values\n",
        "sentences_train, sentences_test, y_train, y_test = train_test_split(\n",
        "        X, Y, test_size=0.25, random_state=1000)\n",
        "vectorizer = CountVectorizer()\n",
        "vectorizer.fit(sentences_train)\n",
        "X_train = vectorizer.transform(sentences_train)\n",
        "X_test  = vectorizer.transform(sentences_test)\n",
        "classifier = LogisticRegression()\n",
        "classifier.fit(X_train, y_train)\n",
        "score = classifier.score(X_test, y_test)\n",
        "\n",
        "print(\"Accuracy:\", score)"
      ],
      "execution_count": 19,
      "outputs": [
        {
          "output_type": "stream",
          "name": "stdout",
          "text": [
            "Accuracy: 0.796\n"
          ]
        }
      ]
    },
    {
      "cell_type": "code",
      "metadata": {
        "colab": {
          "base_uri": "https://localhost:8080/"
        },
        "id": "icBj-wbcsBAt",
        "outputId": "483a60f0-10a5-480e-c56e-125b49c82cc3"
      },
      "source": [
        "test = vectorizer.transform(['i hate my life 😀, thanks god'])\n",
        "print(classifier.predict(test))"
      ],
      "execution_count": 25,
      "outputs": [
        {
          "output_type": "stream",
          "name": "stdout",
          "text": [
            "[1]\n"
          ]
        }
      ]
    }
  ]
}